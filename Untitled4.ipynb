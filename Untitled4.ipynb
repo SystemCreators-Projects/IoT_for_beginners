{
  "nbformat": 4,
  "nbformat_minor": 0,
  "metadata": {
    "colab": {
      "provenance": [],
      "authorship_tag": "ABX9TyNrlpfhXVRotqyW0yC8pCrs",
      "include_colab_link": true
    },
    "kernelspec": {
      "name": "python3",
      "display_name": "Python 3"
    },
    "language_info": {
      "name": "python"
    }
  },
  "cells": [
    {
      "cell_type": "markdown",
      "metadata": {
        "id": "view-in-github",
        "colab_type": "text"
      },
      "source": [
        "<a href=\"https://colab.research.google.com/github/YukiAoki-GU/IoT_for_beginners/blob/main/Untitled4.ipynb\" target=\"_parent\"><img src=\"https://colab.research.google.com/assets/colab-badge.svg\" alt=\"Open In Colab\"/></a>"
      ]
    },
    {
      "cell_type": "code",
      "source": [
        "print(\"hello world\")"
      ],
      "metadata": {
        "colab": {
          "base_uri": "https://localhost:8080/"
        },
        "id": "54lwYpEdb-vy",
        "outputId": "7105bb32-22ea-4a60-aa0a-3dc65b925159"
      },
      "execution_count": null,
      "outputs": [
        {
          "output_type": "stream",
          "name": "stdout",
          "text": [
            "hello world\n"
          ]
        }
      ]
    },
    {
      "cell_type": "code",
      "source": [
        "1+2"
      ],
      "metadata": {
        "colab": {
          "base_uri": "https://localhost:8080/"
        },
        "id": "IwtnW0tZcCHD",
        "outputId": "dfb02e0d-c9b1-4c20-e6ab-65bd9526c2f2"
      },
      "execution_count": null,
      "outputs": [
        {
          "output_type": "execute_result",
          "data": {
            "text/plain": [
              "3"
            ]
          },
          "metadata": {},
          "execution_count": 5
        }
      ]
    },
    {
      "cell_type": "markdown",
      "source": [],
      "metadata": {
        "id": "bBPFTpkhc3EY"
      }
    },
    {
      "cell_type": "code",
      "source": [],
      "metadata": {
        "id": "dUpvH9LxcGCd"
      },
      "execution_count": null,
      "outputs": []
    },
    {
      "cell_type": "markdown",
      "source": [
        "# タイトル\n",
        "## タイトル2\n",
        "### タイトル3\n",
        "\n",
        "- 箇条書き\n",
        "\n",
        "こんにちは\\\n",
        "こんばんは\n",
        "```\n",
        "print(\"hello world\")\n",
        "```\n",
        "---"
      ],
      "metadata": {
        "id": "LdTfshiAcgpj"
      }
    },
    {
      "cell_type": "code",
      "source": [],
      "metadata": {
        "id": "ww_o5SQhcV-X"
      },
      "execution_count": null,
      "outputs": []
    }
  ]
}