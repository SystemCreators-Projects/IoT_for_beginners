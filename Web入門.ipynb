{
 "cells": [
  {
   "cell_type": "markdown",
   "id": "educational-nation",
   "metadata": {},
   "source": [
    "# Web通信の基本"
   ]
  },
  {
   "cell_type": "markdown",
   "id": "assisted-paste",
   "metadata": {},
   "source": [
    "## HTTPの基本"
   ]
  },
  {
   "cell_type": "markdown",
   "id": "shaped-stomach",
   "metadata": {},
   "source": [
    "Web通信の基本であるHTTP(HyperText Transfer Protocol)を学びます。\n",
    "\n",
    "\n",
    "HTTPはみなさんがWebサイトを見るとき，当たり前のように使っている通信プロトコルです。\n",
    "\n",
    "HTTPにはHTTP/1やHTTP/2などがありますが，HTTP/1の基本を学びます。\n",
    "\n",
    "一体，どのような通信を行なっているのでしょうか？\n",
    "\n",
    "HTTPでは下図のように，クライアントからサーバーへのリクエスト，サーバーからクライアントへのレスポンスで通信を行います。"
   ]
  },
  {
   "cell_type": "markdown",
   "id": "spectacular-framework",
   "metadata": {},
   "source": [
    "<img src=\"web_pics/client-server.png\" width=\"600\">"
   ]
  },
  {
   "cell_type": "markdown",
   "id": "organized-genome",
   "metadata": {},
   "source": [
    "HTTPリクエストには以下のメソッドがあります。\n",
    "- GET\n",
    "- POST\n",
    "- HEAD\n",
    "- OPTIONS\n",
    "- PUT\n",
    "- DELETE\n",
    "\n",
    "これらのうちGETがもっとも基本的なメソッドで，ブラウザにURLを入力して検索するとき，GETが使われています。"
   ]
  },
  {
   "cell_type": "markdown",
   "id": "everyday-prompt",
   "metadata": {},
   "source": [
    "クライアントからGETメソッドのリクエストが送られてきたとき，クライアントをhtmlとしてテキストをレスポンスする単純なサーバーを作りましょう。"
   ]
  },
  {
   "cell_type": "markdown",
   "id": "material-worst",
   "metadata": {},
   "source": [
    "<img src=\"web_pics/http_test1.png\" width=\"600\">"
   ]
  },
  {
   "cell_type": "markdown",
   "id": "deadly-affect",
   "metadata": {},
   "source": [
    "[{\"id\":\"852dff6f.a211b\",\"type\":\"http in\",\"z\":\"b7fd36dd.de3468\",\"name\":\"\",\"url\":\"/test1\",\"method\":\"get\",\"upload\":false,\"swaggerDoc\":\"\",\"x\":280,\"y\":220,\"wires\":[[\"413aa751.280a48\"]]},{\"id\":\"413aa751.280a48\",\"type\":\"template\",\"z\":\"b7fd36dd.de3468\",\"name\":\"名前\",\"field\":\"payload\",\"fieldType\":\"msg\",\"format\":\"handlebars\",\"syntax\":\"mustache\",\"template\":\"<html>青木です。</html>\\n\",\"output\":\"str\",\"x\":470,\"y\":220,\"wires\":[[\"e0441a48.c5fcb8\"]]},{\"id\":\"e0441a48.c5fcb8\",\"type\":\"http response\",\"z\":\"b7fd36dd.de3468\",\"name\":\"\",\"statusCode\":\"\",\"headers\":{},\"x\":650,\"y\":220,\"wires\":[]}]"
   ]
  },
  {
   "cell_type": "markdown",
   "id": "increasing-spelling",
   "metadata": {},
   "source": [
    "使っているノードは左から\"http in\", \"template\", \"http response\"で，それぞれのノードの役割は以下の通りです。\n",
    "\n",
    "- 左のノード(http in)：クライアントから指定のURLにリクエストが来たことを受け取る\n",
    "\n",
    "- 中のノード(template)：htmlを作る\n",
    "\n",
    "- 右のノード(http response)：クライアントにレスポンスする\n",
    "\n"
   ]
  },
  {
   "cell_type": "markdown",
   "id": "pursuant-escape",
   "metadata": {},
   "source": [
    "指定のURLに実際にブラウザからアクセスしてみましょう。\n",
    "非常に簡単なホームページができていることが分かりますね。"
   ]
  },
  {
   "cell_type": "markdown",
   "id": "demonstrated-bouquet",
   "metadata": {},
   "source": [
    "<img src=\"web_pics/http_test1_2.png\" width=\"600\">"
   ]
  },
  {
   "cell_type": "markdown",
   "id": "ordered-diving",
   "metadata": {},
   "source": [
    "ブラウザではhtml部分のみが表示されていますが，実際には以下の情報のやりとりが行われています。\n",
    "- クライアントがリクエストとしてサーバーに送る情報\n",
    "- サーバーがクライアントにレスポンスされる情報"
   ]
  },
  {
   "cell_type": "markdown",
   "id": "ahead-airline",
   "metadata": {},
   "source": [
    "以下のノードを使ってサーバーにリクエストを送り，サーバーからのレスポンスを見てみましょう。"
   ]
  },
  {
   "cell_type": "markdown",
   "id": "virgin-dispute",
   "metadata": {},
   "source": [
    "<img src=\"web_pics/http_test1_3.png\" width=\"600\">"
   ]
  },
  {
   "cell_type": "markdown",
   "id": "harmful-package",
   "metadata": {},
   "source": [
    "[{\"id\":\"36190b2f.99b454\",\"type\":\"inject\",\"z\":\"b7fd36dd.de3468\",\"name\":\"\",\"props\":[{\"p\":\"payload\"},{\"p\":\"topic\",\"vt\":\"str\"}],\"repeat\":\"\",\"crontab\":\"\",\"once\":false,\"onceDelay\":0.1,\"topic\":\"\",\"payload\":\"\",\"payloadType\":\"date\",\"x\":180,\"y\":300,\"wires\":[[\"82eb0ca9.ea02c\"]]},{\"id\":\"82eb0ca9.ea02c\",\"type\":\"http request\",\"z\":\"b7fd36dd.de3468\",\"name\":\"\",\"method\":\"GET\",\"ret\":\"txt\",\"paytoqs\":\"ignore\",\"url\":\"http://192.168.1.101:1880/test1\",\"tls\":\"\",\"persist\":false,\"proxy\":\"\",\"authType\":\"\",\"x\":350,\"y\":300,\"wires\":[[\"79321b9c.075a64\"]]},{\"id\":\"79321b9c.075a64\",\"type\":\"debug\",\"z\":\"b7fd36dd.de3468\",\"name\":\"\",\"active\":true,\"tosidebar\":true,\"console\":false,\"tostatus\":false,\"complete\":\"true\",\"targetType\":\"full\",\"statusVal\":\"\",\"statusType\":\"auto\",\"x\":510,\"y\":300,\"wires\":[]}]"
   ]
  },
  {
   "cell_type": "markdown",
   "id": "tropical-context",
   "metadata": {},
   "source": [
    "出力結果は以下の通りですが，ボディ内のメッセージ以外に\"ヘッダー\"と呼ばれる多くの情報のやりとりを行なっていることが分かります。"
   ]
  },
  {
   "cell_type": "markdown",
   "id": "developing-straight",
   "metadata": {},
   "source": [
    "2/25/2021, 1:53:56 PMnode: 79321b9c.075a64\n",
    "msg : Object\n",
    "\n",
    "object\n",
    "\n",
    "_msgid: \"12059394.1de2cc\"\n",
    "\n",
    "---\n",
    "\n",
    "ボディ\n",
    "\n",
    "payload: string\n",
    "\n",
    "<html>青木です。</html> \n",
    "\n",
    "topic: \"\"\n",
    "\n",
    "---\n",
    "\n",
    "ヘッダー\n",
    "\n",
    "statusCode: 200 ←　リクエストが成功\n",
    "\n",
    "headers: object\n",
    "\n",
    "x-powered-by: \"Express\"\n",
    "\n",
    "access-control-allow-origin: \"*\"\n",
    "\n",
    "content-length: \"29\"　←　データの長さ\n",
    "\n",
    "content-type: \"text/html; charset=utf-8\"　←　データ形式\n",
    "\n",
    "etag: \"W/\"1d-0t1a6QSu5ZoXXhFnjOsWIRRiXjU\"\"　←　識別子\n",
    "\n",
    "vary: \"Accept-Encoding\"\n",
    "\n",
    "date: \"Thu, 25 Feb 2021 04:53:56 GMT\"\n",
    "\n",
    "connection: \"close\"\n",
    "\n",
    "x-node-red-request-node: \"4872b5dc\"\n",
    "\n",
    "responseUrl: \"http://192.168.1.101:1880/test1\"\n",
    "\n",
    "redirectList: array[0]"
   ]
  },
  {
   "cell_type": "markdown",
   "id": "serious-organization",
   "metadata": {},
   "source": [
    "このようにHTTPプロトコルではヘッダーを用いることで正確な情報通信を行なっています。"
   ]
  },
  {
   "cell_type": "markdown",
   "id": "advanced-arena",
   "metadata": {},
   "source": [
    "---"
   ]
  },
  {
   "cell_type": "markdown",
   "id": "separated-budapest",
   "metadata": {},
   "source": [
    "## 課題：\n",
    "\n",
    "HTTPのGETメソッドで，クライアントからサーバーに情報を送りましょう。"
   ]
  },
  {
   "cell_type": "markdown",
   "id": "motivated-scanner",
   "metadata": {},
   "source": [
    "クライアントはサーバーに，onoffの変数をどのように送れば良いでしょうか？\n",
    "\n",
    "IPアドレス:1880/test2?onoff=1\n",
    "\n",
    "や\n",
    "\n",
    "IPアドレス:1880/test2?onoff=0\n",
    "\n",
    "のように送ることができます。\n",
    "IPアドレス:1880/test2 として次のようなホームページを作ってみましょう。"
   ]
  },
  {
   "cell_type": "markdown",
   "id": "weighted-extension",
   "metadata": {},
   "source": [
    "<img src=\"web_pics/http_test2.png\" width=\"600\">"
   ]
  },
  {
   "cell_type": "markdown",
   "id": "advisory-tackle",
   "metadata": {},
   "source": [
    "[{\"id\":\"5b751205.ae7e8c\",\"type\":\"http in\",\"z\":\"b7fd36dd.de3468\",\"name\":\"\",\"url\":\"/test2\",\"method\":\"get\",\"upload\":false,\"swaggerDoc\":\"\",\"x\":140,\"y\":600,\"wires\":[[\"7c3ebba6.e38a04\"]]},{\"id\":\"6966fa09.63c824\",\"type\":\"http response\",\"z\":\"b7fd36dd.de3468\",\"name\":\"\",\"statusCode\":\"\",\"headers\":{},\"x\":510,\"y\":600,\"wires\":[]},{\"id\":\"7c3ebba6.e38a04\",\"type\":\"function\",\"z\":\"b7fd36dd.de3468\",\"name\":\"\",\"func\":\"msg.payload = msg.payload.onoff;\\nreturn msg;\",\"outputs\":1,\"noerr\":0,\"initialize\":\"\",\"finalize\":\"\",\"x\":320,\"y\":600,\"wires\":[[\"6966fa09.63c824\",\"1e05b08.f00755\"]]},{\"id\":\"1e05b08.f00755\",\"type\":\"rpi-gpio out\",\"z\":\"b7fd36dd.de3468\",\"name\":\"\",\"pin\":\"5\",\"set\":true,\"level\":\"0\",\"freq\":\"\",\"out\":\"out\",\"x\":520,\"y\":660,\"wires\":[]}]"
   ]
  },
  {
   "cell_type": "markdown",
   "id": "silver-coffee",
   "metadata": {},
   "source": [
    "ポイントはfunction内での記述になります。"
   ]
  },
  {
   "cell_type": "markdown",
   "id": "known-darwin",
   "metadata": {},
   "source": [
    "<img src=\"web_pics/http_test2_2.png\" width=\"600\">"
   ]
  },
  {
   "cell_type": "markdown",
   "id": "cordless-finnish",
   "metadata": {},
   "source": [
    "ここでfunction内ではpayloadの子変数として\"onoff\"という変数を定義してhttp responseとGPIO03に返しています。\n",
    "\n",
    "GPIO03にはLEDが繋がっており，onoff=1が送られてきた場合に点灯，onoff=0が送られてきた場合に消えます。"
   ]
  },
  {
   "cell_type": "markdown",
   "id": "blond-variance",
   "metadata": {},
   "source": [
    "---"
   ]
  },
  {
   "cell_type": "markdown",
   "id": "familiar-princess",
   "metadata": {},
   "source": [
    "## 課題：\n",
    "\n",
    "HTTPのGETメソッドで，サーバーに繋がっているLEDの状態を読み込もう。"
   ]
  },
  {
   "cell_type": "markdown",
   "id": "practical-radio",
   "metadata": {},
   "source": [
    "GPIO03からLEDに出力されているシグナルをGPIO21で受け取っているとします。\n",
    "\n",
    "そのためクライアントは，サーバーのGPIO21が0であるか1であるかを知ることができれば良いはずです。\n",
    "\n",
    "IPアドレス:1880/test3 にLEDのON/OFFが表示されるホームページを作成しましょう。\n",
    "\n",
    "GPIO21から出力されるpayloadの値を\"template\"を用いてhtmlに変数として渡すには，\"template\"内に以下のように記述することで実現できます。"
   ]
  },
  {
   "cell_type": "markdown",
   "id": "handmade-polyester",
   "metadata": {},
   "source": [
    "<img src=\"web_pics/http_test3.png\" width=\"600\">"
   ]
  },
  {
   "cell_type": "markdown",
   "id": "significant-selling",
   "metadata": {},
   "source": [
    "このような記法をmustache記法と言います。\n",
    "\n",
    "「口髭」という意味ですが，形が似ているからですかね，，，"
   ]
  },
  {
   "cell_type": "markdown",
   "id": "reflected-package",
   "metadata": {},
   "source": [
    "### 練習問題："
   ]
  },
  {
   "cell_type": "markdown",
   "id": "equivalent-passion",
   "metadata": {},
   "source": [
    "GPIO40から出力される値(0または1)を，IPアドレス:1880/test3に出力するホームページを作ってください。"
   ]
  },
  {
   "cell_type": "markdown",
   "id": "gorgeous-proxy",
   "metadata": {},
   "source": [
    "### 解説："
   ]
  },
  {
   "cell_type": "markdown",
   "id": "permanent-token",
   "metadata": {},
   "source": [
    "以下のようなフローで一見，動きそうですよね。"
   ]
  },
  {
   "cell_type": "markdown",
   "id": "level-designer",
   "metadata": {},
   "source": [
    "<img src=\"web_pics/http_test3_2.png\" width=\"600\">"
   ]
  },
  {
   "cell_type": "markdown",
   "id": "small-familiar",
   "metadata": {},
   "source": [
    "しかし実際にブラウザで確認すると下のように表示され，動きません。\n",
    "\n",
    "何故でしょうか？"
   ]
  },
  {
   "cell_type": "markdown",
   "id": "former-discretion",
   "metadata": {},
   "source": [
    "<img src=\"web_pics/http_test3_3.png\" width=\"600\">"
   ]
  },
  {
   "cell_type": "markdown",
   "id": "exclusive-swift",
   "metadata": {},
   "source": [
    "クライアントからリクエストが送られるタイミングと，GPIO21の出力のタイミングが合っていないからです。\n",
    "\n",
    "そのため，クライアントからリクエストが送られてきても，{{payload}}にはGPIO21の出力値が代入されません。\n",
    "\n",
    "クライアントからリクエストが送られると，必ず{{payload}}にGPIO21の出力値が代入される方法として，例えば以下のように作ることができます。\n",
    "\n",
    "以下のように2つのフローを作ります。\n",
    "\n",
    "上のフローではGPIO21の値を読み取ってその値を\"data.txt\"に書き込んでいます。\n",
    "\n",
    "下のフローではクライアントからリクエストが来たら\"data.txt\"の値を読み込み，その値をレスポンスしています。"
   ]
  },
  {
   "cell_type": "markdown",
   "id": "contained-school",
   "metadata": {},
   "source": [
    "<img src=\"web_pics/http_test3_4.png\" width=\"600\">"
   ]
  },
  {
   "cell_type": "markdown",
   "id": "cellular-mattress",
   "metadata": {},
   "source": [
    "フローのJSONは以下："
   ]
  },
  {
   "cell_type": "markdown",
   "id": "regular-charlotte",
   "metadata": {},
   "source": [
    "[{\"id\":\"42a2f071.ddee2\",\"type\":\"rpi-gpio in\",\"z\":\"b7fd36dd.de3468\",\"name\":\"\",\"pin\":\"40\",\"intype\":\"tri\",\"debounce\":\"25\",\"read\":false,\"x\":130,\"y\":900,\"wires\":[[\"f7eb99c1.65dbf8\"]]},{\"id\":\"f7eb99c1.65dbf8\",\"type\":\"file\",\"z\":\"b7fd36dd.de3468\",\"name\":\"\",\"filename\":\"data.txt\",\"appendNewline\":true,\"createDir\":false,\"overwriteFile\":\"true\",\"encoding\":\"none\",\"x\":300,\"y\":900,\"wires\":[[]]},{\"id\":\"69e472c2.efa62c\",\"type\":\"http in\",\"z\":\"b7fd36dd.de3468\",\"name\":\"\",\"url\":\"/test3\",\"method\":\"get\",\"upload\":false,\"swaggerDoc\":\"\",\"x\":140,\"y\":960,\"wires\":[[\"7a7f83a9.92839c\"]]},{\"id\":\"c71d27b1.afc228\",\"type\":\"http response\",\"z\":\"b7fd36dd.de3468\",\"name\":\"\",\"statusCode\":\"\",\"headers\":{},\"x\":630,\"y\":960,\"wires\":[]},{\"id\":\"7a7f83a9.92839c\",\"type\":\"file in\",\"z\":\"b7fd36dd.de3468\",\"name\":\"\",\"filename\":\"data.txt\",\"format\":\"utf8\",\"chunk\":false,\"sendError\":false,\"encoding\":\"none\",\"x\":300,\"y\":960,\"wires\":[[\"3025491b.5f4206\"]]},{\"id\":\"3025491b.5f4206\",\"type\":\"template\",\"z\":\"b7fd36dd.de3468\",\"name\":\"HTMLの記述\",\"field\":\"payload\",\"fieldType\":\"msg\",\"format\":\"handlebars\",\"syntax\":\"mustache\",\"template\":\"{{payload}}\",\"output\":\"str\",\"x\":470,\"y\":960,\"wires\":[[\"c71d27b1.afc228\"]]}]"
   ]
  },
  {
   "cell_type": "markdown",
   "id": "smoking-little",
   "metadata": {},
   "source": [
    "## 練習問題："
   ]
  },
  {
   "cell_type": "markdown",
   "id": "cosmetic-lingerie",
   "metadata": {},
   "source": [
    "IPアドレス:1880/test4 に\"LEDはONです\" あるいは \"LEDはOFFです\" と表示されるフローを作ってください。"
   ]
  },
  {
   "cell_type": "markdown",
   "id": "resistant-permit",
   "metadata": {},
   "source": [
    "## 解答例："
   ]
  },
  {
   "cell_type": "markdown",
   "id": "waiting-opera",
   "metadata": {},
   "source": [
    "<img src=\"web_pics/http_test4.png\" width=\"1200\">"
   ]
  },
  {
   "cell_type": "markdown",
   "id": "naughty-color",
   "metadata": {},
   "source": [
    "フローのJSONは以下："
   ]
  },
  {
   "cell_type": "markdown",
   "id": "hazardous-psychology",
   "metadata": {},
   "source": [
    "[{\"id\":\"9ed46a8e.5c7d68\",\"type\":\"http in\",\"z\":\"b7fd36dd.de3468\",\"name\":\"\",\"url\":\"/test4\",\"method\":\"get\",\"upload\":false,\"swaggerDoc\":\"\",\"x\":140,\"y\":1060,\"wires\":[[\"55e781ca.77886\"]]},{\"id\":\"2fd5043b.3f0c3c\",\"type\":\"http response\",\"z\":\"b7fd36dd.de3468\",\"name\":\"\",\"statusCode\":\"\",\"headers\":{},\"x\":1190,\"y\":1060,\"wires\":[]},{\"id\":\"55e781ca.77886\",\"type\":\"file in\",\"z\":\"b7fd36dd.de3468\",\"name\":\"\",\"filename\":\"data.txt\",\"format\":\"utf8\",\"chunk\":false,\"sendError\":false,\"encoding\":\"none\",\"x\":340,\"y\":1060,\"wires\":[[\"fa4d2862.661cd8\"]]},{\"id\":\"3c96e114.830d8e\",\"type\":\"template\",\"z\":\"b7fd36dd.de3468\",\"name\":\"HTMLの記述\",\"field\":\"payload\",\"fieldType\":\"msg\",\"format\":\"handlebars\",\"syntax\":\"mustache\",\"template\":\"LEDは {{payload}} です。\",\"output\":\"str\",\"x\":1030,\"y\":1060,\"wires\":[[\"2fd5043b.3f0c3c\"]]},{\"id\":\"fa4d2862.661cd8\",\"type\":\"switch\",\"z\":\"b7fd36dd.de3468\",\"name\":\"1 or 0の条件分岐\",\"property\":\"payload\",\"propertyType\":\"msg\",\"rules\":[{\"t\":\"eq\",\"v\":\"1\",\"vt\":\"num\"},{\"t\":\"eq\",\"v\":\"0\",\"vt\":\"num\"}],\"checkall\":\"true\",\"repair\":false,\"outputs\":2,\"x\":600,\"y\":1060,\"wires\":[[\"9f47a0b3.98cd8\"],[\"e502ed00.2babf\"]]},{\"id\":\"9f47a0b3.98cd8\",\"type\":\"change\",\"z\":\"b7fd36dd.de3468\",\"name\":\"1→ON\",\"rules\":[{\"t\":\"set\",\"p\":\"payload\",\"pt\":\"msg\",\"to\":\"ON\",\"tot\":\"str\"}],\"action\":\"\",\"property\":\"\",\"from\":\"\",\"to\":\"\",\"reg\":false,\"x\":790,\"y\":1040,\"wires\":[[\"3c96e114.830d8e\"]]},{\"id\":\"e502ed00.2babf\",\"type\":\"change\",\"z\":\"b7fd36dd.de3468\",\"name\":\"0→OFF\",\"rules\":[{\"t\":\"set\",\"p\":\"payload\",\"pt\":\"msg\",\"to\":\"OFF\",\"tot\":\"str\"}],\"action\":\"\",\"property\":\"\",\"from\":\"\",\"to\":\"\",\"reg\":false,\"x\":800,\"y\":1080,\"wires\":[[\"3c96e114.830d8e\"]]}]"
   ]
  },
  {
   "cell_type": "markdown",
   "id": "combined-circular",
   "metadata": {},
   "source": [
    "---"
   ]
  },
  {
   "cell_type": "markdown",
   "id": "improved-union",
   "metadata": {},
   "source": [
    "ここまでで，HTTPのGETメソッドについて簡単な説明を行いました。\n",
    "\n",
    "使ってみて分かったように，HTTPでは確実な通信が行われる反面，以下の欠点もあることが分かったかと思います。\n",
    "- ヘッダーが大きいため，通信量が大きい。\n",
    "- クライアントがリクエストを送ったとき(ブラウザで更新したとき)にのみ通信が行われるため，リアルタイム通信ではない。"
   ]
  },
  {
   "cell_type": "markdown",
   "id": "turned-norwegian",
   "metadata": {},
   "source": [
    "---"
   ]
  },
  {
   "cell_type": "markdown",
   "id": "proved-cleveland",
   "metadata": {},
   "source": [
    "## WebSocketの基本"
   ]
  },
  {
   "cell_type": "markdown",
   "id": "equivalent-bubble",
   "metadata": {},
   "source": [
    "ヘッダーレスでリアルタイム通信を行うプロトコルがWebSocketです。\n",
    "\n",
    "WebSocketを使って，IPアドレス:1880/ws2 にタイムスタンプを送り，受け取った結果をデバッグで表示しましょう。\n",
    "\n",
    "フローは以下のようになります。"
   ]
  },
  {
   "cell_type": "markdown",
   "id": "fancy-activity",
   "metadata": {},
   "source": [
    "<img src=\"web_pics/ws1.png\" width=\"600\">"
   ]
  },
  {
   "cell_type": "markdown",
   "id": "thermal-eating",
   "metadata": {},
   "source": [
    "[{\"id\":\"1bc416a6.d6ef99\",\"type\":\"websocket in\",\"z\":\"906e1b89.68e938\",\"name\":\"\",\"server\":\"18268a8c.81b075\",\"client\":\"\",\"x\":220,\"y\":1320,\"wires\":[[\"e7c2f4e3.66f9f8\"]]},{\"id\":\"d4b4c95.4fd7938\",\"type\":\"websocket out\",\"z\":\"906e1b89.68e938\",\"name\":\"\",\"server\":\"\",\"client\":\"8e9de49e.8e06a8\",\"x\":480,\"y\":1240,\"wires\":[]},{\"id\":\"9b2ead1b.a8ca2\",\"type\":\"inject\",\"z\":\"906e1b89.68e938\",\"name\":\"\",\"props\":[{\"p\":\"payload\"},{\"p\":\"topic\",\"vt\":\"str\"}],\"repeat\":\"\",\"crontab\":\"\",\"once\":false,\"onceDelay\":0.1,\"topic\":\"\",\"payload\":\"\",\"payloadType\":\"date\",\"x\":220,\"y\":1240,\"wires\":[[\"d4b4c95.4fd7938\"]]},{\"id\":\"e7c2f4e3.66f9f8\",\"type\":\"debug\",\"z\":\"906e1b89.68e938\",\"name\":\"\",\"active\":true,\"tosidebar\":true,\"console\":false,\"tostatus\":false,\"complete\":\"true\",\"targetType\":\"full\",\"statusVal\":\"\",\"statusType\":\"auto\",\"x\":390,\"y\":1320,\"wires\":[]},{\"id\":\"18268a8c.81b075\",\"type\":\"websocket-listener\",\"path\":\"/ws1\",\"wholemsg\":\"false\"},{\"id\":\"8e9de49e.8e06a8\",\"type\":\"websocket-client\",\"path\":\"ws://192.168.1.101:1880/ws1\",\"tls\":\"\",\"wholemsg\":\"false\"}]"
   ]
  },
  {
   "cell_type": "markdown",
   "id": "plain-devices",
   "metadata": {},
   "source": [
    "上側のフローを説明します。\n",
    "\n",
    "クライアントからサーバーにタイムスタンプを送るフローです。\n",
    "\n",
    "websocket outのプロパティは以下のようです。"
   ]
  },
  {
   "cell_type": "markdown",
   "id": "earned-scout",
   "metadata": {},
   "source": [
    "<img src=\"web_pics/ws1_2.png\" width=\"600\">"
   ]
  },
  {
   "cell_type": "markdown",
   "id": "usual-wilson",
   "metadata": {},
   "source": [
    "下側のフローを説明します。\n",
    "\n",
    "サーバーがデータを受け取りデバッグで表示するフローです。\n",
    "\n",
    "websocket inのプロパティは以下のようです。"
   ]
  },
  {
   "cell_type": "markdown",
   "id": "breeding-giant",
   "metadata": {},
   "source": [
    "<img src=\"web_pics/ws1_3.png\" width=\"600\">"
   ]
  },
  {
   "cell_type": "markdown",
   "id": "corresponding-nurse",
   "metadata": {},
   "source": [
    "リアルタイムでタイムスタンプが送られてきますよね。\n",
    "\n",
    "またデバッグの結果を確認するとヘッダー情報がないことが分かりますよね。"
   ]
  },
  {
   "cell_type": "markdown",
   "id": "piano-writing",
   "metadata": {},
   "source": [
    "---"
   ]
  },
  {
   "cell_type": "markdown",
   "id": "painful-capture",
   "metadata": {},
   "source": [
    "## 課題：\n",
    "WebSocketを使い，GPIO03に接続されているLEDをリアルタイムでON/OFFするフローを作りましょう。"
   ]
  },
  {
   "cell_type": "markdown",
   "id": "warming-thinking",
   "metadata": {},
   "source": [
    "<img src=\"web_pics/ws2.png\" width=\"600\">"
   ]
  },
  {
   "cell_type": "markdown",
   "id": "extensive-greenhouse",
   "metadata": {},
   "source": [
    "[{\"id\":\"1bd7b6cf.5bcb39\",\"type\":\"inject\",\"z\":\"906e1b89.68e938\",\"name\":\"1\",\"props\":[{\"p\":\"payload\"},{\"p\":\"topic\",\"vt\":\"str\"}],\"repeat\":\"\",\"crontab\":\"\",\"once\":false,\"onceDelay\":0.1,\"topic\":\"\",\"payload\":\"1\",\"payloadType\":\"num\",\"x\":210,\"y\":1520,\"wires\":[[\"fa6ee596.909de8\"]]},{\"id\":\"2afccdae.a8e642\",\"type\":\"inject\",\"z\":\"906e1b89.68e938\",\"name\":\"0\",\"props\":[{\"p\":\"payload\"},{\"p\":\"topic\",\"vt\":\"str\"}],\"repeat\":\"\",\"crontab\":\"\",\"once\":false,\"onceDelay\":0.1,\"topic\":\"\",\"payload\":\"0\",\"payloadType\":\"num\",\"x\":210,\"y\":1560,\"wires\":[[\"fa6ee596.909de8\"]]},{\"id\":\"fa6ee596.909de8\",\"type\":\"websocket out\",\"z\":\"906e1b89.68e938\",\"name\":\"\",\"server\":\"\",\"client\":\"f38a3e8.49330c\",\"x\":460,\"y\":1540,\"wires\":[]},{\"id\":\"c0b53820.8e3b98\",\"type\":\"websocket in\",\"z\":\"906e1b89.68e938\",\"name\":\"\",\"server\":\"b3dc3c89.e5b5c\",\"client\":\"\",\"x\":200,\"y\":1660,\"wires\":[[\"af05a32c.0dc1e\"]]},{\"id\":\"af05a32c.0dc1e\",\"type\":\"rpi-gpio out\",\"z\":\"906e1b89.68e938\",\"name\":\"\",\"pin\":\"5\",\"set\":true,\"level\":\"0\",\"freq\":\"\",\"out\":\"out\",\"x\":390,\"y\":1660,\"wires\":[]},{\"id\":\"dbd4778a.3dd0c8\",\"type\":\"comment\",\"z\":\"906e1b89.68e938\",\"name\":\"クライアント側：WebSocketサーバー(/ws2)に0, 1を送る\",\"info\":\"\",\"x\":360,\"y\":1480,\"wires\":[]},{\"id\":\"2a7041b5.f20d4e\",\"type\":\"comment\",\"z\":\"906e1b89.68e938\",\"name\":\"サーバー側：クライアントから送られてくる0, 1でGPIO05のLEDをON/OFF\",\"info\":\"\",\"x\":410,\"y\":1620,\"wires\":[]},{\"id\":\"f38a3e8.49330c\",\"type\":\"websocket-client\",\"path\":\"ws://192.168.1.101:1880/ws2\",\"tls\":\"\",\"wholemsg\":\"false\"},{\"id\":\"b3dc3c89.e5b5c\",\"type\":\"websocket-listener\",\"path\":\"/ws2\",\"wholemsg\":\"false\"}]"
   ]
  },
  {
   "cell_type": "markdown",
   "id": "serious-saskatchewan",
   "metadata": {},
   "source": [
    "---"
   ]
  },
  {
   "cell_type": "markdown",
   "id": "convinced-craft",
   "metadata": {},
   "source": [
    "## Dashboardについて\n",
    "ブラウザを使ってリアルタイムでスイッチによるLEDのON/OFF，または結果のグラフ表示をしたいですよね。\n",
    "\n",
    "そのためのUI(User Interface)を作る必要がありますが，UIを簡単に作ることができるのがdashboardです。"
   ]
  },
  {
   "cell_type": "markdown",
   "id": "technical-viewer",
   "metadata": {},
   "source": [
    "<img src=\"web_pics/dashboard.png\" width=\"200\">"
   ]
  },
  {
   "cell_type": "markdown",
   "id": "subjective-nation",
   "metadata": {},
   "source": [
    "---"
   ]
  },
  {
   "cell_type": "markdown",
   "id": "handled-influence",
   "metadata": {},
   "source": [
    "## 課題：\n",
    "\n",
    "スイッチのUIを使ったLEDのON/OFFをしよう。\n",
    "\n",
    "dashboardのswitchを使って0, 1をws://IPアドレス:1880/ws3 に送って，その結果をGPIO03に送りLEDをON/OFFしてください。"
   ]
  },
  {
   "cell_type": "markdown",
   "id": "intensive-sunglasses",
   "metadata": {},
   "source": [
    "<img src=\"web_pics/ws3.png\" width=\"800\">"
   ]
  },
  {
   "cell_type": "markdown",
   "id": "together-advocacy",
   "metadata": {},
   "source": [
    "[{\"id\":\"fb917d28.48122\",\"type\":\"ui_switch\",\"z\":\"906e1b89.68e938\",\"name\":\"\",\"label\":\"switch\",\"tooltip\":\"\",\"group\":\"c538d068.95036\",\"order\":1,\"width\":0,\"height\":0,\"passthru\":true,\"decouple\":\"false\",\"topic\":\"topic\",\"topicType\":\"msg\",\"style\":\"\",\"onvalue\":\"true\",\"onvalueType\":\"str\",\"onicon\":\"\",\"oncolor\":\"\",\"offvalue\":\"false\",\"offvalueType\":\"str\",\"officon\":\"\",\"offcolor\":\"\",\"animate\":false,\"x\":190,\"y\":1900,\"wires\":[[\"caca2175.36b68\"]]},{\"id\":\"59c9341b.61b79c\",\"type\":\"rpi-gpio out\",\"z\":\"906e1b89.68e938\",\"name\":\"\",\"pin\":\"5\",\"set\":true,\"level\":\"0\",\"freq\":\"\",\"out\":\"out\",\"x\":380,\"y\":2060,\"wires\":[]},{\"id\":\"2983ed18.8e6642\",\"type\":\"change\",\"z\":\"906e1b89.68e938\",\"name\":\"trueなら1\",\"rules\":[{\"t\":\"set\",\"p\":\"payload\",\"pt\":\"msg\",\"to\":\"1\",\"tot\":\"num\"}],\"action\":\"\",\"property\":\"\",\"from\":\"\",\"to\":\"\",\"reg\":false,\"x\":540,\"y\":1880,\"wires\":[[\"569d6c08.f2ab44\"]]},{\"id\":\"caca2175.36b68\",\"type\":\"switch\",\"z\":\"906e1b89.68e938\",\"name\":\"真偽判定\",\"property\":\"payload\",\"propertyType\":\"msg\",\"rules\":[{\"t\":\"eq\",\"v\":\"true\",\"vt\":\"str\"},{\"t\":\"eq\",\"v\":\"false\",\"vt\":\"str\"}],\"checkall\":\"true\",\"repair\":false,\"outputs\":2,\"x\":370,\"y\":1900,\"wires\":[[\"2983ed18.8e6642\"],[\"3121b1a5.9ef6ee\"]]},{\"id\":\"3121b1a5.9ef6ee\",\"type\":\"change\",\"z\":\"906e1b89.68e938\",\"name\":\"falseなら0\",\"rules\":[{\"t\":\"set\",\"p\":\"payload\",\"pt\":\"msg\",\"to\":\"0\",\"tot\":\"num\"}],\"action\":\"\",\"property\":\"\",\"from\":\"\",\"to\":\"\",\"reg\":false,\"x\":540,\"y\":1940,\"wires\":[[\"569d6c08.f2ab44\"]]},{\"id\":\"569d6c08.f2ab44\",\"type\":\"websocket out\",\"z\":\"906e1b89.68e938\",\"name\":\"\",\"server\":\"\",\"client\":\"8e9de49e.8e06a8\",\"x\":840,\"y\":1920,\"wires\":[]},{\"id\":\"caca9cc2.b02f9\",\"type\":\"websocket in\",\"z\":\"906e1b89.68e938\",\"name\":\"\",\"server\":\"18268a8c.81b075\",\"client\":\"\",\"x\":200,\"y\":2060,\"wires\":[[\"59c9341b.61b79c\"]]},{\"id\":\"567dc362.b03b6c\",\"type\":\"comment\",\"z\":\"906e1b89.68e938\",\"name\":\"クライアント側：WebSocketサーバー(/ws3)に0, 1を送る\",\"info\":\"\",\"x\":340,\"y\":1840,\"wires\":[]},{\"id\":\"ab775b90.6986b8\",\"type\":\"comment\",\"z\":\"906e1b89.68e938\",\"name\":\"サーバー側：クライアントから送られてくる0, 1でGPIO05のLEDをON/OFF\",\"info\":\"\",\"x\":390,\"y\":2020,\"wires\":[]},{\"id\":\"c538d068.95036\",\"type\":\"ui_group\",\"name\":\"Default\",\"tab\":\"9db82914.a6a3f8\",\"order\":1,\"disp\":true,\"width\":\"6\",\"collapse\":false},{\"id\":\"8e9de49e.8e06a8\",\"type\":\"websocket-client\",\"path\":\"ws://192.168.1.101:1880/ws3\",\"tls\":\"\",\"wholemsg\":\"false\"},{\"id\":\"18268a8c.81b075\",\"type\":\"websocket-listener\",\"path\":\"/ws3\",\"wholemsg\":\"false\"},{\"id\":\"9db82914.a6a3f8\",\"type\":\"ui_tab\",\"name\":\"Home\",\"icon\":\"dashboard\",\"disabled\":false,\"hidden\":false}]"
   ]
  },
  {
   "cell_type": "markdown",
   "id": "expected-arrangement",
   "metadata": {},
   "source": [
    "---"
   ]
  },
  {
   "cell_type": "markdown",
   "id": "vocational-fusion",
   "metadata": {},
   "source": [
    "## 課題：\n",
    "\n",
    "GPIO03からの出力はGPIO21で受けているはずです。\n",
    "\n",
    "GPIO21で受けた結果をws://IPアドレス:1880/ws4 に送り，その結果を1秒おきに自動更新されるグラフを作りましょう。"
   ]
  },
  {
   "cell_type": "markdown",
   "id": "elementary-bankruptcy",
   "metadata": {},
   "source": [
    "<img src=\"web_pics/ws4.png\" width=\"800\">"
   ]
  },
  {
   "cell_type": "markdown",
   "id": "jewish-fortune",
   "metadata": {},
   "source": [
    "[{\"id\":\"fb917d28.48122\",\"type\":\"ui_switch\",\"z\":\"906e1b89.68e938\",\"name\":\"\",\"label\":\"switch\",\"tooltip\":\"\",\"group\":\"c538d068.95036\",\"order\":1,\"width\":0,\"height\":0,\"passthru\":true,\"decouple\":\"false\",\"topic\":\"topic\",\"topicType\":\"msg\",\"style\":\"\",\"onvalue\":\"true\",\"onvalueType\":\"str\",\"onicon\":\"\",\"oncolor\":\"\",\"offvalue\":\"false\",\"offvalueType\":\"str\",\"officon\":\"\",\"offcolor\":\"\",\"animate\":false,\"x\":190,\"y\":1900,\"wires\":[[\"caca2175.36b68\"]]},{\"id\":\"59c9341b.61b79c\",\"type\":\"rpi-gpio out\",\"z\":\"906e1b89.68e938\",\"name\":\"\",\"pin\":\"5\",\"set\":true,\"level\":\"0\",\"freq\":\"\",\"out\":\"out\",\"x\":380,\"y\":2060,\"wires\":[]},{\"id\":\"2983ed18.8e6642\",\"type\":\"change\",\"z\":\"906e1b89.68e938\",\"name\":\"trueなら1\",\"rules\":[{\"t\":\"set\",\"p\":\"payload\",\"pt\":\"msg\",\"to\":\"1\",\"tot\":\"num\"}],\"action\":\"\",\"property\":\"\",\"from\":\"\",\"to\":\"\",\"reg\":false,\"x\":540,\"y\":1880,\"wires\":[[\"569d6c08.f2ab44\"]]},{\"id\":\"caca2175.36b68\",\"type\":\"switch\",\"z\":\"906e1b89.68e938\",\"name\":\"真偽判定\",\"property\":\"payload\",\"propertyType\":\"msg\",\"rules\":[{\"t\":\"eq\",\"v\":\"true\",\"vt\":\"str\"},{\"t\":\"eq\",\"v\":\"false\",\"vt\":\"str\"}],\"checkall\":\"true\",\"repair\":false,\"outputs\":2,\"x\":370,\"y\":1900,\"wires\":[[\"2983ed18.8e6642\"],[\"3121b1a5.9ef6ee\"]]},{\"id\":\"3121b1a5.9ef6ee\",\"type\":\"change\",\"z\":\"906e1b89.68e938\",\"name\":\"falseなら0\",\"rules\":[{\"t\":\"set\",\"p\":\"payload\",\"pt\":\"msg\",\"to\":\"0\",\"tot\":\"num\"}],\"action\":\"\",\"property\":\"\",\"from\":\"\",\"to\":\"\",\"reg\":false,\"x\":540,\"y\":1940,\"wires\":[[\"569d6c08.f2ab44\"]]},{\"id\":\"569d6c08.f2ab44\",\"type\":\"websocket out\",\"z\":\"906e1b89.68e938\",\"name\":\"\",\"server\":\"\",\"client\":\"8e9de49e.8e06a8\",\"x\":840,\"y\":1920,\"wires\":[]},{\"id\":\"caca9cc2.b02f9\",\"type\":\"websocket in\",\"z\":\"906e1b89.68e938\",\"name\":\"\",\"server\":\"18268a8c.81b075\",\"client\":\"\",\"x\":200,\"y\":2060,\"wires\":[[\"59c9341b.61b79c\"]]},{\"id\":\"567dc362.b03b6c\",\"type\":\"comment\",\"z\":\"906e1b89.68e938\",\"name\":\"クライアント側：WebSocketサーバー(/ws3)に0, 1を送る\",\"info\":\"\",\"x\":340,\"y\":1840,\"wires\":[]},{\"id\":\"ab775b90.6986b8\",\"type\":\"comment\",\"z\":\"906e1b89.68e938\",\"name\":\"サーバー側：クライアントから送られてくる0, 1でGPIO05のLEDをON/OFF\",\"info\":\"\",\"x\":390,\"y\":2020,\"wires\":[]},{\"id\":\"c538d068.95036\",\"type\":\"ui_group\",\"name\":\"Default\",\"tab\":\"9db82914.a6a3f8\",\"order\":1,\"disp\":true,\"width\":\"6\",\"collapse\":false},{\"id\":\"8e9de49e.8e06a8\",\"type\":\"websocket-client\",\"path\":\"ws://192.168.1.101:1880/ws3\",\"tls\":\"\",\"wholemsg\":\"false\"},{\"id\":\"18268a8c.81b075\",\"type\":\"websocket-listener\",\"path\":\"/ws3\",\"wholemsg\":\"false\"},{\"id\":\"9db82914.a6a3f8\",\"type\":\"ui_tab\",\"name\":\"Home\",\"icon\":\"dashboard\",\"disabled\":false,\"hidden\":false}]"
   ]
  },
  {
   "cell_type": "markdown",
   "id": "warming-negative",
   "metadata": {},
   "source": [
    "---"
   ]
  },
  {
   "cell_type": "markdown",
   "id": "smaller-market",
   "metadata": {},
   "source": [
    "## MQTTについて\n",
    "\n",
    "実際のIoTでは多数のセンサ測定を同時に行うため，例えば，各センサーでは10秒おきに測定を行い，センサーが1万個あるような場合があります。\n",
    "\n",
    "HTTPを使うと，リクエスト・レスポンスのヘッダーが大きくなり，またリアルタイムでの通信もできません。\n",
    "\n",
    "WebSocketを使うとリアルタイム通信ができますが，1万個のサーバーを立てる必要がありますよね。\n",
    "\n",
    "こうした問題を解決するために生まれたプロトコルがMQTT(Message Queue Telemetry Transport)です。"
   ]
  },
  {
   "cell_type": "markdown",
   "id": "spread-london",
   "metadata": {},
   "source": [
    "<img src=\"web_pics/MQTT1.png\" width=\"800\">"
   ]
  },
  {
   "cell_type": "markdown",
   "id": "approved-moderator",
   "metadata": {},
   "source": [
    "MQTTではデータを送るセンサ側はパブリッシャー，データの受信側はサブスクライバーと呼ばれます。\n",
    "\n",
    "パブリッシャーはヘッダーレスのデータを，データの種類(Topic)を指定して投げるだけです。\n",
    "\n",
    "サブスクライバーは，指定されたTopicのデータを全て受け取ります。\n",
    "\n",
    "パブリッシャーとサブスクライバーの間の仲介者が必要となりブローカーと呼ばれます。"
   ]
  },
  {
   "cell_type": "markdown",
   "id": "rough-chaos",
   "metadata": {},
   "source": [
    "---"
   ]
  },
  {
   "cell_type": "markdown",
   "id": "peaceful-savings",
   "metadata": {},
   "source": [
    "## 課題：\n",
    "\n",
    "パブリッシャー：testというトピックにしてタイムスタンプを送りましょう。\n",
    "\n",
    "サブスクライバー：testというトピックのデータを受け取りましょう。\n",
    "\n",
    "ブローカー：MQTTのポート番号は1883としましょう。"
   ]
  },
  {
   "cell_type": "markdown",
   "id": "bottom-discovery",
   "metadata": {},
   "source": [
    "<img src=\"web_pics/MQTT1_2.png\" width=\"800\">"
   ]
  }
 ],
 "metadata": {
  "kernelspec": {
   "display_name": "Python 3",
   "language": "python",
   "name": "python3"
  },
  "language_info": {
   "codemirror_mode": {
    "name": "ipython",
    "version": 3
   },
   "file_extension": ".py",
   "mimetype": "text/x-python",
   "name": "python",
   "nbconvert_exporter": "python",
   "pygments_lexer": "ipython3",
   "version": "3.8.6"
  }
 },
 "nbformat": 4,
 "nbformat_minor": 5
}
