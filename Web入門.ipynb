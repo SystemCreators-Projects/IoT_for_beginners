{
 "cells": [
  {
   "cell_type": "markdown",
   "id": "intimate-program",
   "metadata": {},
   "source": [
    "# Web通信の基本"
   ]
  },
  {
   "cell_type": "markdown",
   "id": "furnished-calculator",
   "metadata": {},
   "source": [
    "## HTTPの基本"
   ]
  },
  {
   "cell_type": "markdown",
   "id": "illegal-georgia",
   "metadata": {},
   "source": [
    "Web通信の基本であるHTTPプロトコルを学びます。\n",
    "\n",
    "HTTPはみなさんがWebサイトを見るとき，当たり前のように使っている通信プロトコルです。\n",
    "\n",
    "一体，どのような通信を行なっているのでしょうか？\n",
    "\n",
    "HTTP(HyperText Transfer Protocol)では下図のように，クライアントからサーバーへのリクエスト，サーバーからクライアントへのレスポンスで通信を行います。"
   ]
  },
  {
   "cell_type": "markdown",
   "id": "national-garden",
   "metadata": {},
   "source": [
    "<img src=\"web_pics/client-server.png\" width=\"600\">"
   ]
  },
  {
   "cell_type": "markdown",
   "id": "located-trace",
   "metadata": {},
   "source": [
    "HTTPリクエストには以下のメソッドがあります。\n",
    "- GET\n",
    "- POST\n",
    "- HEAD\n",
    "- OPTIONS\n",
    "- PUT\n",
    "- DELETE\n",
    "\n",
    "これらのうちGETがもっとも基本的なメソッドで，ブラウザにURLを入力して検索するとき，GETが使われています。"
   ]
  },
  {
   "cell_type": "markdown",
   "id": "bacterial-glance",
   "metadata": {},
   "source": [
    "クライアントからGETメソッドのリクエストが送られてきたとき，クライアントをhtmlとしてテキストをレスポンスする単純なサーバーを作りましょう。"
   ]
  },
  {
   "cell_type": "markdown",
   "id": "electoral-retreat",
   "metadata": {},
   "source": [
    "<img src=\"web_pics/http_test1.png\" width=\"600\">"
   ]
  },
  {
   "cell_type": "markdown",
   "id": "available-bristol",
   "metadata": {},
   "source": [
    "上のフローのJSONは以下："
   ]
  },
  {
   "cell_type": "markdown",
   "id": "functioning-independence",
   "metadata": {},
   "source": [
    "[{\"id\":\"852dff6f.a211b\",\"type\":\"http in\",\"z\":\"b7fd36dd.de3468\",\"name\":\"\",\"url\":\"/test1\",\"method\":\"get\",\"upload\":false,\"swaggerDoc\":\"\",\"x\":280,\"y\":220,\"wires\":[[\"413aa751.280a48\"]]},{\"id\":\"413aa751.280a48\",\"type\":\"template\",\"z\":\"b7fd36dd.de3468\",\"name\":\"名前\",\"field\":\"payload\",\"fieldType\":\"msg\",\"format\":\"handlebars\",\"syntax\":\"mustache\",\"template\":\"<html>青木です。</html>\\n\",\"output\":\"str\",\"x\":470,\"y\":220,\"wires\":[[\"e0441a48.c5fcb8\"]]},{\"id\":\"e0441a48.c5fcb8\",\"type\":\"http response\",\"z\":\"b7fd36dd.de3468\",\"name\":\"\",\"statusCode\":\"\",\"headers\":{},\"x\":650,\"y\":220,\"wires\":[]}]"
   ]
  },
  {
   "cell_type": "markdown",
   "id": "seasonal-piece",
   "metadata": {},
   "source": [
    "使っているノードは左から\"http in\", \"template\", \"http response\"で，それぞれのノードの役割は以下の通りです。\n",
    "\n",
    "- 左のノード(http in)：クライアントから指定のURLにリクエストが来たことを受け取る\n",
    "\n",
    "- 中のノード(template)：htmlを作る\n",
    "\n",
    "- 右のノード(http response)：クライアントにレスポンスする\n",
    "\n"
   ]
  },
  {
   "cell_type": "markdown",
   "id": "compound-score",
   "metadata": {},
   "source": [
    "指定のURLに実際にブラウザからアクセスしてみましょう。\n",
    "非常に簡単なホームページができていることが分かります。"
   ]
  },
  {
   "cell_type": "markdown",
   "id": "considered-hospital",
   "metadata": {},
   "source": [
    "<img src=\"web_pics/http_test1_2.png\" width=\"600\">"
   ]
  },
  {
   "cell_type": "markdown",
   "id": "strange-desperate",
   "metadata": {},
   "source": [
    "ブラウザではhtml部分のみが表示されていますが，実際には以下の情報のやりとりが行われています。\n",
    "- クライアントがリクエストとしてサーバーに送る情報\n",
    "- サーバーがクライアントにレスポンスされる情報"
   ]
  },
  {
   "cell_type": "markdown",
   "id": "placed-mexico",
   "metadata": {},
   "source": [
    "以下のノードを使ってサーバーにリクエストを送り，サーバーからのレスポンスを見てみましょう。"
   ]
  },
  {
   "cell_type": "markdown",
   "id": "found-walnut",
   "metadata": {},
   "source": [
    "<img src=\"web_pics/http_test1_3.png\" width=\"600\">"
   ]
  },
  {
   "cell_type": "markdown",
   "id": "advanced-century",
   "metadata": {},
   "source": [
    "上のフローのJSONは以下："
   ]
  },
  {
   "cell_type": "markdown",
   "id": "purple-showcase",
   "metadata": {},
   "source": [
    "[{\"id\":\"36190b2f.99b454\",\"type\":\"inject\",\"z\":\"b7fd36dd.de3468\",\"name\":\"\",\"props\":[{\"p\":\"payload\"},{\"p\":\"topic\",\"vt\":\"str\"}],\"repeat\":\"\",\"crontab\":\"\",\"once\":false,\"onceDelay\":0.1,\"topic\":\"\",\"payload\":\"\",\"payloadType\":\"date\",\"x\":180,\"y\":300,\"wires\":[[\"82eb0ca9.ea02c\"]]},{\"id\":\"82eb0ca9.ea02c\",\"type\":\"http request\",\"z\":\"b7fd36dd.de3468\",\"name\":\"\",\"method\":\"GET\",\"ret\":\"txt\",\"paytoqs\":\"ignore\",\"url\":\"http://192.168.1.101:1880/test1\",\"tls\":\"\",\"persist\":false,\"proxy\":\"\",\"authType\":\"\",\"x\":350,\"y\":300,\"wires\":[[\"79321b9c.075a64\"]]},{\"id\":\"79321b9c.075a64\",\"type\":\"debug\",\"z\":\"b7fd36dd.de3468\",\"name\":\"\",\"active\":true,\"tosidebar\":true,\"console\":false,\"tostatus\":false,\"complete\":\"true\",\"targetType\":\"full\",\"statusVal\":\"\",\"statusType\":\"auto\",\"x\":510,\"y\":300,\"wires\":[]}]"
   ]
  },
  {
   "cell_type": "markdown",
   "id": "wired-justice",
   "metadata": {},
   "source": [
    "出力結果は以下の通りですが，ボディ内のメッセージ以外に\"ヘッダー\"と呼ばれる多くの情報のやりとりを行なっていることが分かります。"
   ]
  },
  {
   "cell_type": "markdown",
   "id": "comparable-holly",
   "metadata": {},
   "source": [
    "2/25/2021, 1:53:56 PMnode: 79321b9c.075a64\n",
    "msg : Object\n",
    "\n",
    "object\n",
    "\n",
    "_msgid: \"12059394.1de2cc\"\n",
    "\n",
    "---\n",
    "\n",
    "<font color=\"Red\">ボディ</font>\n",
    "\n",
    "payload: string\n",
    "\n",
    "<html>青木です。</html> \n",
    "\n",
    "topic: \"\"\n",
    "\n",
    "---\n",
    "\n",
    "<font color=\"Red\">ヘッダー</font>\n",
    "\n",
    "statusCode: 200 ←　リクエストが成功\n",
    "\n",
    "headers: object\n",
    "\n",
    "x-powered-by: \"Express\"\n",
    "\n",
    "access-control-allow-origin: \"*\"\n",
    "\n",
    "content-length: \"29\"　←　データの長さ\n",
    "\n",
    "content-type: \"text/html; charset=utf-8\"　←　データ形式\n",
    "\n",
    "etag: \"W/\"1d-0t1a6QSu5ZoXXhFnjOsWIRRiXjU\"\"　←　識別子\n",
    "\n",
    "vary: \"Accept-Encoding\"\n",
    "\n",
    "date: \"Thu, 25 Feb 2021 04:53:56 GMT\"\n",
    "\n",
    "connection: \"close\"\n",
    "\n",
    "x-node-red-request-node: \"4872b5dc\"\n",
    "\n",
    "responseUrl: \"http://192.168.1.101:1880/test1\"\n",
    "\n",
    "redirectList: array[0]"
   ]
  },
  {
   "cell_type": "markdown",
   "id": "alert-weather",
   "metadata": {},
   "source": [
    "このようにHTTPプロトコルではヘッダーを用いることで正確な情報通信を行なっています。"
   ]
  },
  {
   "cell_type": "markdown",
   "id": "technological-aquatic",
   "metadata": {},
   "source": [
    "---"
   ]
  },
  {
   "cell_type": "markdown",
   "id": "divided-addition",
   "metadata": {},
   "source": [
    "## HTTPのGETメソッドで，クライアントからサーバーに情報を送る"
   ]
  },
  {
   "cell_type": "markdown",
   "id": "bulgarian-clarity",
   "metadata": {},
   "source": [
    "<img src=\"web_pics/http_test2.png\" width=\"600\">"
   ]
  },
  {
   "cell_type": "markdown",
   "id": "conscious-precipitation",
   "metadata": {},
   "source": [
    "上のフローのJSONは以下："
   ]
  },
  {
   "cell_type": "markdown",
   "id": "controversial-engineer",
   "metadata": {},
   "source": [
    "[{\"id\":\"5b751205.ae7e8c\",\"type\":\"http in\",\"z\":\"b7fd36dd.de3468\",\"name\":\"\",\"url\":\"/test2\",\"method\":\"get\",\"upload\":false,\"swaggerDoc\":\"\",\"x\":140,\"y\":600,\"wires\":[[\"7c3ebba6.e38a04\"]]},{\"id\":\"6966fa09.63c824\",\"type\":\"http response\",\"z\":\"b7fd36dd.de3468\",\"name\":\"\",\"statusCode\":\"\",\"headers\":{},\"x\":510,\"y\":600,\"wires\":[]},{\"id\":\"7c3ebba6.e38a04\",\"type\":\"function\",\"z\":\"b7fd36dd.de3468\",\"name\":\"\",\"func\":\"msg.payload = msg.payload.onoff;\\nreturn msg;\",\"outputs\":1,\"noerr\":0,\"initialize\":\"\",\"finalize\":\"\",\"x\":320,\"y\":600,\"wires\":[[\"6966fa09.63c824\",\"1e05b08.f00755\"]]},{\"id\":\"1e05b08.f00755\",\"type\":\"rpi-gpio out\",\"z\":\"b7fd36dd.de3468\",\"name\":\"\",\"pin\":\"5\",\"set\":true,\"level\":\"0\",\"freq\":\"\",\"out\":\"out\",\"x\":520,\"y\":660,\"wires\":[]}]"
   ]
  },
  {
   "cell_type": "markdown",
   "id": "blocked-taiwan",
   "metadata": {},
   "source": [
    "IPアドレス:1880/test2 として上のようなホームページを作ってみましょう。\n",
    "\n",
    "ここでfunction内ではpayloadの子変数として\"onoff\"という変数を定義してhttp responseとGPIO05に返しています。\n",
    "\n",
    "GPIO05にはLEDが繋がっており，onoff=1が送られてきた場合に点灯，onoff=0が送られてきた場合に消えます。"
   ]
  },
  {
   "cell_type": "markdown",
   "id": "sorted-coordinator",
   "metadata": {},
   "source": [
    "クライアントはサーバーに，onoffの変数をどのように送れば良いでしょうか？\n",
    "\n",
    "IPアドレス:1880/test2<font color=\"Red\">?onoff=1</font>\n",
    "\n",
    "や\n",
    "\n",
    "IPアドレス:1880/test2<font color=\"Red\">?onoff=0</font>\n",
    "\n",
    "のように送ることができます。やってみましょう。"
   ]
  },
  {
   "cell_type": "markdown",
   "id": "entire-harassment",
   "metadata": {},
   "source": [
    "---"
   ]
  },
  {
   "cell_type": "markdown",
   "id": "functioning-narrow",
   "metadata": {},
   "source": [
    "## HTTPのGETメソッドで，サーバーに繋がっているLEDの状態を読み込む"
   ]
  },
  {
   "cell_type": "markdown",
   "id": "radio-bracelet",
   "metadata": {},
   "source": [
    "GPIO05からLEDに出力されているシグナルをGPIO40で受け取っているとします。\n",
    "\n",
    "そのためクライアントは，サーバーのGPIO40が0であるか1であるかを知ることができれば良いはずです。\n",
    "\n",
    "IPアドレス:1880/test3 にLEDのON/OFFが表示されるホームページを作成しましょう。\n",
    "\n",
    "GPIO40から出力されるpayloadの値を\"template\"を用いてhtmlに変数として渡すには，\"template\"内に以下のように記述することで実現できます。"
   ]
  },
  {
   "cell_type": "markdown",
   "id": "delayed-lease",
   "metadata": {},
   "source": [
    "<img src=\"web_pics/http_test3.png\" width=\"600\">"
   ]
  },
  {
   "cell_type": "markdown",
   "id": "matched-joint",
   "metadata": {},
   "source": [
    "このような記法をmustache記法と言います。\n",
    "\n",
    "「口髭」という意味ですが，形が似ているからですかね，，，"
   ]
  },
  {
   "cell_type": "markdown",
   "id": "brazilian-photographer",
   "metadata": {},
   "source": [
    "### 練習問題："
   ]
  },
  {
   "cell_type": "markdown",
   "id": "formal-sarah",
   "metadata": {},
   "source": [
    "GPIO40から出力される値(0または1)を，IPアドレス:1880/test3に出力するホームページを作ってください。"
   ]
  },
  {
   "cell_type": "markdown",
   "id": "extreme-proof",
   "metadata": {},
   "source": [
    "### 解説："
   ]
  },
  {
   "cell_type": "markdown",
   "id": "allied-extraction",
   "metadata": {},
   "source": [
    "以下のようなフローで一見，動きそうですよね。"
   ]
  },
  {
   "cell_type": "markdown",
   "id": "ongoing-germany",
   "metadata": {},
   "source": [
    "<img src=\"web_pics/http_test3_2.png\" width=\"600\">"
   ]
  },
  {
   "cell_type": "markdown",
   "id": "missing-tracker",
   "metadata": {},
   "source": [
    "しかし実際にブラウザで確認すると下のように表示され，動きません。\n",
    "\n",
    "何故でしょうか？"
   ]
  },
  {
   "cell_type": "markdown",
   "id": "auburn-diana",
   "metadata": {},
   "source": [
    "<img src=\"web_pics/http_test3_3.png\" width=\"600\">"
   ]
  },
  {
   "cell_type": "markdown",
   "id": "mighty-james",
   "metadata": {},
   "source": [
    "クライアントからリクエストが送られるタイミングと，GPIO40の出力のタイミングが合っていないからです。\n",
    "\n",
    "そのため，クライアントからリクエストが送られてきても，{{payload}}にはGPIO40の出力値が代入されません。\n",
    "\n",
    "クライアントからリクエストが送られると，必ず{{payload}}にGPIO40の出力値が代入される方法として，例えば以下のように作ることができます。\n",
    "\n",
    "以下のように2つのフローを作ります。\n",
    "\n",
    "上のフローではGPIO40の値を読み取ってその値を\"data.txt\"に書き込んでいます。\n",
    "\n",
    "下のフローではクライアントからリクエストが来たら\"data.txt\"の値を読み込み，その値をレスポンスしています。"
   ]
  },
  {
   "cell_type": "markdown",
   "id": "finished-avenue",
   "metadata": {},
   "source": [
    "<img src=\"web_pics/http_test3_4.png\" width=\"600\">"
   ]
  },
  {
   "cell_type": "markdown",
   "id": "changing-expression",
   "metadata": {},
   "source": [
    "フローのJSONは以下："
   ]
  },
  {
   "cell_type": "markdown",
   "id": "executed-shakespeare",
   "metadata": {},
   "source": [
    "[{\"id\":\"42a2f071.ddee2\",\"type\":\"rpi-gpio in\",\"z\":\"b7fd36dd.de3468\",\"name\":\"\",\"pin\":\"40\",\"intype\":\"tri\",\"debounce\":\"25\",\"read\":false,\"x\":130,\"y\":900,\"wires\":[[\"f7eb99c1.65dbf8\"]]},{\"id\":\"f7eb99c1.65dbf8\",\"type\":\"file\",\"z\":\"b7fd36dd.de3468\",\"name\":\"\",\"filename\":\"data.txt\",\"appendNewline\":true,\"createDir\":false,\"overwriteFile\":\"true\",\"encoding\":\"none\",\"x\":300,\"y\":900,\"wires\":[[]]},{\"id\":\"69e472c2.efa62c\",\"type\":\"http in\",\"z\":\"b7fd36dd.de3468\",\"name\":\"\",\"url\":\"/test3\",\"method\":\"get\",\"upload\":false,\"swaggerDoc\":\"\",\"x\":140,\"y\":960,\"wires\":[[\"7a7f83a9.92839c\"]]},{\"id\":\"c71d27b1.afc228\",\"type\":\"http response\",\"z\":\"b7fd36dd.de3468\",\"name\":\"\",\"statusCode\":\"\",\"headers\":{},\"x\":630,\"y\":960,\"wires\":[]},{\"id\":\"7a7f83a9.92839c\",\"type\":\"file in\",\"z\":\"b7fd36dd.de3468\",\"name\":\"\",\"filename\":\"data.txt\",\"format\":\"utf8\",\"chunk\":false,\"sendError\":false,\"encoding\":\"none\",\"x\":300,\"y\":960,\"wires\":[[\"3025491b.5f4206\"]]},{\"id\":\"3025491b.5f4206\",\"type\":\"template\",\"z\":\"b7fd36dd.de3468\",\"name\":\"HTMLの記述\",\"field\":\"payload\",\"fieldType\":\"msg\",\"format\":\"handlebars\",\"syntax\":\"mustache\",\"template\":\"{{payload}}\",\"output\":\"str\",\"x\":470,\"y\":960,\"wires\":[[\"c71d27b1.afc228\"]]}]"
   ]
  },
  {
   "cell_type": "markdown",
   "id": "judicial-dayton",
   "metadata": {},
   "source": [
    "## 練習問題："
   ]
  },
  {
   "cell_type": "markdown",
   "id": "respiratory-cardiff",
   "metadata": {},
   "source": [
    "IPアドレス:1880/test4 に\"LEDはONです。\"あるいは\"LEDはOFFです。\"と表示されるフローを作ってください。"
   ]
  },
  {
   "cell_type": "markdown",
   "id": "common-tanzania",
   "metadata": {},
   "source": [
    "## 解答例："
   ]
  },
  {
   "cell_type": "markdown",
   "id": "adopted-ability",
   "metadata": {},
   "source": [
    "<img src=\"web_pics/http_test4.png\" width=\"1200\">"
   ]
  },
  {
   "cell_type": "markdown",
   "id": "ideal-access",
   "metadata": {},
   "source": [
    "フローのJSONは以下："
   ]
  },
  {
   "cell_type": "markdown",
   "id": "modular-cargo",
   "metadata": {},
   "source": [
    "[{\"id\":\"9ed46a8e.5c7d68\",\"type\":\"http in\",\"z\":\"b7fd36dd.de3468\",\"name\":\"\",\"url\":\"/test4\",\"method\":\"get\",\"upload\":false,\"swaggerDoc\":\"\",\"x\":140,\"y\":1060,\"wires\":[[\"55e781ca.77886\"]]},{\"id\":\"2fd5043b.3f0c3c\",\"type\":\"http response\",\"z\":\"b7fd36dd.de3468\",\"name\":\"\",\"statusCode\":\"\",\"headers\":{},\"x\":1190,\"y\":1060,\"wires\":[]},{\"id\":\"55e781ca.77886\",\"type\":\"file in\",\"z\":\"b7fd36dd.de3468\",\"name\":\"\",\"filename\":\"data.txt\",\"format\":\"utf8\",\"chunk\":false,\"sendError\":false,\"encoding\":\"none\",\"x\":340,\"y\":1060,\"wires\":[[\"fa4d2862.661cd8\"]]},{\"id\":\"3c96e114.830d8e\",\"type\":\"template\",\"z\":\"b7fd36dd.de3468\",\"name\":\"HTMLの記述\",\"field\":\"payload\",\"fieldType\":\"msg\",\"format\":\"handlebars\",\"syntax\":\"mustache\",\"template\":\"LEDは {{payload}} です。\",\"output\":\"str\",\"x\":1030,\"y\":1060,\"wires\":[[\"2fd5043b.3f0c3c\"]]},{\"id\":\"fa4d2862.661cd8\",\"type\":\"switch\",\"z\":\"b7fd36dd.de3468\",\"name\":\"1 or 0の条件分岐\",\"property\":\"payload\",\"propertyType\":\"msg\",\"rules\":[{\"t\":\"eq\",\"v\":\"1\",\"vt\":\"num\"},{\"t\":\"eq\",\"v\":\"0\",\"vt\":\"num\"}],\"checkall\":\"true\",\"repair\":false,\"outputs\":2,\"x\":600,\"y\":1060,\"wires\":[[\"9f47a0b3.98cd8\"],[\"e502ed00.2babf\"]]},{\"id\":\"9f47a0b3.98cd8\",\"type\":\"change\",\"z\":\"b7fd36dd.de3468\",\"name\":\"1→ON\",\"rules\":[{\"t\":\"set\",\"p\":\"payload\",\"pt\":\"msg\",\"to\":\"ON\",\"tot\":\"str\"}],\"action\":\"\",\"property\":\"\",\"from\":\"\",\"to\":\"\",\"reg\":false,\"x\":790,\"y\":1040,\"wires\":[[\"3c96e114.830d8e\"]]},{\"id\":\"e502ed00.2babf\",\"type\":\"change\",\"z\":\"b7fd36dd.de3468\",\"name\":\"0→OFF\",\"rules\":[{\"t\":\"set\",\"p\":\"payload\",\"pt\":\"msg\",\"to\":\"OFF\",\"tot\":\"str\"}],\"action\":\"\",\"property\":\"\",\"from\":\"\",\"to\":\"\",\"reg\":false,\"x\":800,\"y\":1080,\"wires\":[[\"3c96e114.830d8e\"]]}]"
   ]
  },
  {
   "cell_type": "markdown",
   "id": "constitutional-advocacy",
   "metadata": {},
   "source": [
    "---"
   ]
  },
  {
   "cell_type": "markdown",
   "id": "matched-string",
   "metadata": {},
   "source": [
    "ここまでで，HTTPのGETメソッドについて簡単な説明を行いました。\n",
    "\n",
    "使ってみて分かったように，HTTPでは確実な通信が行われる反面，以下の欠点もあることが分かったかと思います。\n",
    "- ヘッダーが大きいため，通信量が大きい。\n",
    "- クライアントがリクエストを送ったとき(ブラウザで更新したとき)にのみ通信が行われるため，リアルタイム通信ではない。"
   ]
  },
  {
   "cell_type": "markdown",
   "id": "loved-county",
   "metadata": {},
   "source": [
    "---"
   ]
  },
  {
   "cell_type": "markdown",
   "id": "earned-reflection",
   "metadata": {},
   "source": [
    "## WebSocketの基本"
   ]
  },
  {
   "cell_type": "code",
   "execution_count": null,
   "id": "awful-tactics",
   "metadata": {},
   "outputs": [],
   "source": []
  }
 ],
 "metadata": {
  "kernelspec": {
   "display_name": "Python 3",
   "language": "python",
   "name": "python3"
  },
  "language_info": {
   "codemirror_mode": {
    "name": "ipython",
    "version": 3
   },
   "file_extension": ".py",
   "mimetype": "text/x-python",
   "name": "python",
   "nbconvert_exporter": "python",
   "pygments_lexer": "ipython3",
   "version": "3.7.3"
  }
 },
 "nbformat": 4,
 "nbformat_minor": 5
}
