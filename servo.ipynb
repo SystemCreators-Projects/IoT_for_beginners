{
  "cells": [
    {
      "cell_type": "markdown",
      "metadata": {
        "id": "view-in-github",
        "colab_type": "text"
      },
      "source": [
        "<a href=\"https://colab.research.google.com/github/YukiAoki-GU/IoT_for_beginners/blob/main/servo.ipynb\" target=\"_parent\"><img src=\"https://colab.research.google.com/assets/colab-badge.svg\" alt=\"Open In Colab\"/></a>"
      ]
    },
    {
      "cell_type": "markdown",
      "id": "d59f1240-b2ea-40a2-8705-80224288c0eb",
      "metadata": {
        "id": "d59f1240-b2ea-40a2-8705-80224288c0eb"
      },
      "source": [
        "| サーボモーター | Raspberry Piのピン |\n",
        "|----------------|---------------------|\n",
        "| 茶色（GND）    | GNDピン             |\n",
        "| 赤（VCC）      | 5Vピン              |\n",
        "| オレンジ（Signal） | PWM用GPIOピン (例: GPIO12) |\n",
        "\n",
        "https://akizukidenshi.com/goodsaffix/SG90_a.pdf"
      ]
    },
    {
      "cell_type": "code",
      "execution_count": null,
      "id": "e715d9c1-61cc-496d-b903-d0ca229171d8",
      "metadata": {
        "id": "e715d9c1-61cc-496d-b903-d0ca229171d8",
        "outputId": "3fa1d5b2-e402-450e-c973-124edad0a41d"
      },
      "outputs": [
        {
          "name": "stdout",
          "output_type": "stream",
          "text": [
            "Angle: 0°, Pulse Width: 500 µs\n",
            "Angle: 10°, Pulse Width: 611 µs\n",
            "Angle: 20°, Pulse Width: 722 µs\n",
            "Angle: 30°, Pulse Width: 833 µs\n",
            "Angle: 40°, Pulse Width: 944 µs\n",
            "Angle: 50°, Pulse Width: 1055 µs\n",
            "Angle: 60°, Pulse Width: 1166 µs\n",
            "Angle: 70°, Pulse Width: 1277 µs\n",
            "Angle: 80°, Pulse Width: 1388 µs\n",
            "Angle: 90°, Pulse Width: 1500 µs\n",
            "Angle: 100°, Pulse Width: 1611 µs\n",
            "Angle: 110°, Pulse Width: 1722 µs\n",
            "Angle: 120°, Pulse Width: 1833 µs\n",
            "Angle: 130°, Pulse Width: 1944 µs\n",
            "Angle: 140°, Pulse Width: 2055 µs\n",
            "Angle: 150°, Pulse Width: 2166 µs\n",
            "Angle: 160°, Pulse Width: 2277 µs\n",
            "Angle: 170°, Pulse Width: 2388 µs\n",
            "Angle: 180°, Pulse Width: 2500 µs\n",
            "Angle: 180°, Pulse Width: 2500 µs\n",
            "Angle: 170°, Pulse Width: 2388 µs\n",
            "Angle: 160°, Pulse Width: 2277 µs\n",
            "Angle: 150°, Pulse Width: 2166 µs\n",
            "Angle: 140°, Pulse Width: 2055 µs\n",
            "Angle: 130°, Pulse Width: 1944 µs\n",
            "Angle: 120°, Pulse Width: 1833 µs\n",
            "Angle: 110°, Pulse Width: 1722 µs\n",
            "Angle: 100°, Pulse Width: 1611 µs\n",
            "Angle: 90°, Pulse Width: 1500 µs\n",
            "Angle: 80°, Pulse Width: 1388 µs\n",
            "Angle: 70°, Pulse Width: 1277 µs\n",
            "Angle: 60°, Pulse Width: 1166 µs\n",
            "Angle: 50°, Pulse Width: 1055 µs\n",
            "Angle: 40°, Pulse Width: 944 µs\n",
            "Angle: 30°, Pulse Width: 833 µs\n",
            "Angle: 20°, Pulse Width: 722 µs\n",
            "Angle: 10°, Pulse Width: 611 µs\n",
            "Angle: 0°, Pulse Width: 500 µs\n"
          ]
        }
      ],
      "source": [
        "import pigpio\n",
        "import time\n",
        "\n",
        "# 初期設定\n",
        "servo_pin = 12  # GPIO12（PWM0ピン）\n",
        "pi = pigpio.pi()\n",
        "\n",
        "if not pi.connected:\n",
        "    print(\"Failed to connect to pigpio daemon. Exiting.\")\n",
        "    exit()\n",
        "\n",
        "# サーボを初期化\n",
        "pi.set_mode(servo_pin, pigpio.OUTPUT)\n",
        "\n",
        "# 関数: サーボの角度を設定\n",
        "def set_servo_angle(angle):\n",
        "    # SG90では角度を500～2500マイクロ秒のパルス幅に変換\n",
        "    pulse_width = int(500 + (angle / 180.0) * 2000)\n",
        "    pi.set_servo_pulsewidth(servo_pin, pulse_width)\n",
        "    print(f\"Angle: {angle}°, Pulse Width: {pulse_width} µs\")\n",
        "\n",
        "try:\n",
        "    # 0°から180°まで動かして戻す\n",
        "    for angle in range(0, 181, 10):\n",
        "        set_servo_angle(angle)\n",
        "        time.sleep(0.5)\n",
        "\n",
        "    for angle in range(180, -1, -10):\n",
        "        set_servo_angle(angle)\n",
        "        time.sleep(0.5)\n",
        "\n",
        "finally:\n",
        "    # サーボを停止\n",
        "    pi.set_servo_pulsewidth(servo_pin, 0)\n",
        "    pi.stop()"
      ]
    },
    {
      "cell_type": "code",
      "execution_count": null,
      "id": "c27d5747-66af-47b3-a92c-975f8efe69f2",
      "metadata": {
        "id": "c27d5747-66af-47b3-a92c-975f8efe69f2"
      },
      "outputs": [],
      "source": []
    }
  ],
  "metadata": {
    "kernelspec": {
      "display_name": "Python 3 (ipykernel)",
      "language": "python",
      "name": "python3"
    },
    "language_info": {
      "codemirror_mode": {
        "name": "ipython",
        "version": 3
      },
      "file_extension": ".py",
      "mimetype": "text/x-python",
      "name": "python",
      "nbconvert_exporter": "python",
      "pygments_lexer": "ipython3",
      "version": "3.9.2"
    },
    "colab": {
      "provenance": [],
      "include_colab_link": true
    }
  },
  "nbformat": 4,
  "nbformat_minor": 5
}