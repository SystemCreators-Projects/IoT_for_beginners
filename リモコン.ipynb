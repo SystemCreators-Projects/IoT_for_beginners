{
  "cells": [
    {
      "cell_type": "markdown",
      "metadata": {
        "id": "view-in-github",
        "colab_type": "text"
      },
      "source": [
        "<a href=\"https://colab.research.google.com/github/YukiAoki-GU/IoT_for_beginners/blob/main/%E3%83%AA%E3%83%A2%E3%82%B3%E3%83%B3.ipynb\" target=\"_parent\"><img src=\"https://colab.research.google.com/assets/colab-badge.svg\" alt=\"Open In Colab\"/></a>"
      ]
    },
    {
      "cell_type": "markdown",
      "id": "008e864a-20ce-4a0b-854f-904fd565c84c",
      "metadata": {
        "id": "008e864a-20ce-4a0b-854f-904fd565c84c"
      },
      "source": [
        "# irrp.pyのダウンロード"
      ]
    },
    {
      "cell_type": "code",
      "execution_count": null,
      "id": "278630b0-5f51-4863-90b6-9c272157affd",
      "metadata": {
        "id": "278630b0-5f51-4863-90b6-9c272157affd",
        "outputId": "aed554d2-6a70-41bc-e6a1-a8c8260147a0"
      },
      "outputs": [
        {
          "name": "stdout",
          "output_type": "stream",
          "text": [
            "--2024-12-26 10:06:10--  https://raw.githubusercontent.com/YukiAoki-GU/IoT_for_beginners/main/irrp.py\n",
            "Resolving raw.githubusercontent.com (raw.githubusercontent.com)... 185.199.108.133, 185.199.110.133, 185.199.111.133, ...\n",
            "Connecting to raw.githubusercontent.com (raw.githubusercontent.com)|185.199.108.133|:443... connected.\n",
            "HTTP request sent, awaiting response... 200 OK\n",
            "Length: 14759 (14K) [text/plain]\n",
            "Saving to: 'irrp.py'\n",
            "\n",
            "irrp.py             100%[===================>]  14.41K  --.-KB/s    in 0.005s  \n",
            "\n",
            "2024-12-26 10:06:10 (3.07 MB/s) - 'irrp.py' saved [14759/14759]\n",
            "\n"
          ]
        }
      ],
      "source": [
        "! wget https://raw.githubusercontent.com/YukiAoki-GU/IoT_for_beginners/main/irrp.py"
      ]
    },
    {
      "cell_type": "markdown",
      "id": "73142262-c9c8-4a7f-871d-31a04fb487d1",
      "metadata": {
        "id": "73142262-c9c8-4a7f-871d-31a04fb487d1"
      },
      "source": [
        "# GPIO 17で記録\n",
        "\n",
        "赤外線受信センサのカタログは以下\\\n",
        "https://akizukidenshi.com/goodsaffix/OSRB38C9AA.pdf\n",
        "\n",
        "以下は記録したものを`code`として保存。\\\n",
        "またID=`light:on`としている"
      ]
    },
    {
      "cell_type": "code",
      "execution_count": null,
      "id": "00c753ad-01d7-4460-9b48-b2936bb4854b",
      "metadata": {
        "id": "00c753ad-01d7-4460-9b48-b2936bb4854b",
        "outputId": "f6ccca30-445c-4549-c30c-188bcfc0afe4"
      },
      "outputs": [
        {
          "name": "stdout",
          "output_type": "stream",
          "text": [
            "Recording\n",
            "Press key for 'light:on'\n",
            "Okay\n"
          ]
        }
      ],
      "source": [
        "from irrp import IRRP\n",
        "\n",
        "ir = IRRP(file=\"code\", post=130, no_confirm=True)\n",
        "ir.Record(GPIO=17, ID=\"light:on\")\n",
        "ir.stop()\n"
      ]
    },
    {
      "cell_type": "markdown",
      "id": "64e7f894-78b8-4296-8383-70114b8ffe05",
      "metadata": {
        "id": "64e7f894-78b8-4296-8383-70114b8ffe05"
      },
      "source": [
        "# GPIO 26から出力"
      ]
    },
    {
      "cell_type": "code",
      "execution_count": null,
      "id": "70711767-03f4-4fd0-bc81-9e6485b441c3",
      "metadata": {
        "id": "70711767-03f4-4fd0-bc81-9e6485b441c3"
      },
      "outputs": [],
      "source": [
        "from irrp import IRRP\n",
        "\n",
        "ir = IRRP(file=\"code\", no_confirm=True)\n",
        "ir.Playback(GPIO=26, ID=\"light:on\")\n",
        "ir.stop()"
      ]
    }
  ],
  "metadata": {
    "kernelspec": {
      "display_name": "Python 3 (ipykernel)",
      "language": "python",
      "name": "python3"
    },
    "language_info": {
      "codemirror_mode": {
        "name": "ipython",
        "version": 3
      },
      "file_extension": ".py",
      "mimetype": "text/x-python",
      "name": "python",
      "nbconvert_exporter": "python",
      "pygments_lexer": "ipython3",
      "version": "3.9.2"
    },
    "colab": {
      "provenance": [],
      "include_colab_link": true
    }
  },
  "nbformat": 4,
  "nbformat_minor": 5
}