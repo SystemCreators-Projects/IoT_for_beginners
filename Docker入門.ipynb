{
  "nbformat": 4,
  "nbformat_minor": 0,
  "metadata": {
    "colab": {
      "provenance": [],
      "authorship_tag": "ABX9TyMLvwox8/Op15MGYbcr8SDt",
      "include_colab_link": true
    },
    "kernelspec": {
      "name": "python3",
      "display_name": "Python 3"
    },
    "language_info": {
      "name": "python"
    }
  },
  "cells": [
    {
      "cell_type": "markdown",
      "metadata": {
        "id": "view-in-github",
        "colab_type": "text"
      },
      "source": [
        "<a href=\"https://colab.research.google.com/github/YukiAoki-GU/IoT_for_beginners/blob/main/Docker%E5%85%A5%E9%96%80.ipynb\" target=\"_parent\"><img src=\"https://colab.research.google.com/assets/colab-badge.svg\" alt=\"Open In Colab\"/></a>"
      ]
    },
    {
      "cell_type": "markdown",
      "source": [
        "# Docker Engineのインストール"
      ],
      "metadata": {
        "id": "JA0QAUHOF2Tz"
      }
    },
    {
      "cell_type": "code",
      "source": [
        "from IPython.display import YouTubeVideo\n",
        "YouTubeVideo('X_BsnODkq_Y', width=400, height=300)\n"
      ],
      "metadata": {
        "colab": {
          "base_uri": "https://localhost:8080/",
          "height": 321
        },
        "id": "9Tp7CjZaGTKR",
        "outputId": "17d362cc-2971-475c-8905-0807af8d2803"
      },
      "execution_count": null,
      "outputs": [
        {
          "output_type": "execute_result",
          "data": {
            "text/plain": [
              "<IPython.lib.display.YouTubeVideo at 0x7ff996086e20>"
            ],
            "text/html": [
              "\n",
              "        <iframe\n",
              "            width=\"400\"\n",
              "            height=\"300\"\n",
              "            src=\"https://www.youtube.com/embed/X_BsnODkq_Y\"\n",
              "            frameborder=\"0\"\n",
              "            allowfullscreen\n",
              "        ></iframe>\n",
              "        "
            ]
          },
          "metadata": {},
          "execution_count": 1
        }
      ]
    },
    {
      "cell_type": "markdown",
      "source": [
        "[UbuntuにDocker Engineをインストール](https://matsuand.github.io/docs.docker.jp.onthefly/engine/install/ubuntu/)しましょう。Ubuntuでのパッケージ導入には\n",
        "```\n",
        "sudo apt install パッケージ名\n",
        "```\n",
        "を使うのが一般的な方法ですが，\n",
        "```\n",
        "sudo apt install docker-engine\n",
        "```\n",
        "をしてもパッケージは見つかりません。理由は，/etc/apt/sources.listにDockerリポジトリがセットアップされていないためです。Dockerリポジトリを追加すれば良いのですが，Raspberian OSは該当するリポジトリがありません。そのため，GitHub上の[スクリプト](https://get.docker.com/)を使ったインストールが必要になります。以下を実行してください\n",
        "```\n",
        "curl -fsSL https://get.docker.com -o get-docker.sh\n",
        "sudo sh ./get-docker.sh\n",
        "```\n",
        "\n",
        "注意)ここで，以下のコマンドでdockerがきちんと起動しているかどうかを確認してください。\n",
        "```\n",
        "systemctl status docker\n",
        "```\n",
        "動いていない場合，以下でdockerデーモンの再起動をしましょう。\n",
        "```\n",
        "sudo systemctl restart docker\n",
        "```\n",
        "\n",
        "インストール後，バージョンを確認してみましょう。\n",
        "```\n",
        "docker -v\n",
        "```\n",
        "\n",
        "hello-worldを動かしてみましょう。\n",
        "```\n",
        "sudo docker run hello-world\n",
        "```\n",
        "以下のメッセージが出てくればOKです。\n",
        "```\n",
        "Hello from Docker!\n",
        "This message shows that your installation appears to be working correctly.\n",
        "```\n",
        "\n",
        "最後に，一般ユーザーでdockerコマンドを打てるようにしましょう。以下のコマンドで現在のユーザーをdockerグループに追加します。\n",
        "```\n",
        "sudo usermod -aG docker $USER\n",
        "```"
      ],
      "metadata": {
        "id": "Ag4kf1byqMaR"
      }
    },
    {
      "cell_type": "markdown",
      "source": [
        "----\n",
        "# Dockerの使い方"
      ],
      "metadata": {
        "id": "fAQcG0XFHfon"
      }
    },
    {
      "cell_type": "markdown",
      "source": [
        "DockerでのNode-Red\n",
        "\n",
        "外部から1881にアクセスすると1880にフォワード\n",
        "```\n",
        "docker run -itd -p 1881:1880 -v node_red_data:/data --name ubuntu-test ubuntu:20.04\n",
        "```"
      ],
      "metadata": {
        "id": "oVAhS1jtMilX"
      }
    },
    {
      "cell_type": "markdown",
      "source": [
        "Ubuntu 20.04のイメージをダウンロード\n",
        "```\n",
        "docker image pull ubuntu:20.04\n",
        "```\n",
        "ダウンロードしたイメージを確認\n",
        "```\n",
        "docker image ls\n",
        "```\n",
        "\n",
        "ダウンロードしたubuntu:20.04のイメージをubuntu-testというコンテナ名として起動\\\n",
        "-it：いつも付ける！\\\n",
        "-d: デタッチドモード(バックグラウンドで動く)\\\n",
        "--name ubuntu-test: \"ubuntu-test\"というコンテナ名にする \n",
        "\n",
        "```\n",
        "docker run -itd --name ubuntu-test ubuntu:20.04\n",
        "```\n",
        "\n",
        "起動したコンテナの確認\n",
        "```\n",
        "docker container ls\n",
        "```\n",
        "\n",
        "bashでコンテナに入る\n",
        "```\n",
        "docker exec -it ubuntu-test /bin/bash\n",
        "```\n",
        "\n",
        "コンテナを止める\n",
        "```\n",
        "docker container stop ubuntu-test\n",
        "```\n",
        "コンテナを捨てる\n",
        "```\n",
        "docker container rm ubuntu-test\n",
        "```"
      ],
      "metadata": {
        "id": "Jgrv-XjcQxBb"
      }
    },
    {
      "cell_type": "code",
      "source": [],
      "metadata": {
        "id": "AuJJgs2HHgcj"
      },
      "execution_count": null,
      "outputs": []
    },
    {
      "cell_type": "markdown",
      "source": [
        "---\n",
        "#Node-RedのDockerについて\n",
        "Node-Redイメージをダウンロード\\\n",
        "```\n",
        "docker image pull nodered/node-red\n",
        "```\n",
        "\n",
        "\n",
        "外部から1881にアクセスすると1880にフォワードして立ち上げる\\\n",
        "ホストのnode_red_dataをDockerの/dataにマウント\n",
        "```\n",
        "docker run -it -p 1881:1880 -v node_red_data:/data --name mynodered nodered/node-red\n",
        "```\n",
        "\n",
        "ブラウザからIP:1881で動作確認\\\n",
        "バッシュでコンテナに入るには\n",
        "```\n",
        "docker exec -it mynodered /bin/bash\n",
        "```\n",
        "\n",
        "ボリュームを確認するには\n",
        "```\n",
        "docker volume ls\n",
        "```\n",
        "この状態のコンテナをイメージとして保存するには\\\n",
        "コンテナIDが\"939191d54a40\"を node-redというイメージ名，TAGを0.1で保存\n",
        "```\n",
        "docker commit 939191d54a40 node-red:0.1\n",
        "```\n",
        "\n",
        "コンテナの停止\n",
        "```\n",
        "docker container stop mynodered\n",
        "```"
      ],
      "metadata": {
        "id": "netMBPUqXb8V"
      }
    },
    {
      "cell_type": "code",
      "source": [],
      "metadata": {
        "id": "Rws0xnh3y60C"
      },
      "execution_count": null,
      "outputs": []
    },
    {
      "cell_type": "markdown",
      "source": [
        "---\n",
        "#nginxのDockerについて\n",
        "nginxイメージをダウンロード\\\n",
        "```\n",
        "docker image pull nginx\n",
        "```\n",
        "外部から8888にアクセスしたらnginxの80に繋がる\n",
        "\n",
        "```\n",
        "docker run -itd -p 8888:80 --name nginx nginx\n",
        "```\n",
        "ip:8888でnginxのトップ画面が出ることを確認\n",
        "\n",
        "以下でNode-redを立ち上げ\\\n",
        "```\n",
        "docker run -itd -p 1881:1880 -v node_red_data:/data --name mynodered node-red:0.1\n",
        "```\n",
        "nginxのリバースプロキシを使ってnode-redにアクセス\n",
        "\n",
        "```\n",
        "docker exec -it nginx /bin/bash\n",
        "apt update\n",
        "apt install -y vim\n",
        "vi /etc/nginx/conf.d/vhost.conf\n",
        "```\n",
        "\n",
        "```\n",
        "server {\n",
        "    listen 80;\n",
        "    server_name test.aoki-rp;\n",
        " \n",
        "    location / {\n",
        "      root /var/test;\n",
        "      index index.html\n",
        "    }\n",
        "}\n",
        "```\n",
        "Docker内でnginxの再起動\n",
        "```\n",
        "service nginx reload\n",
        "```\n",
        "\n"
      ],
      "metadata": {
        "id": "7xINJbMQvl0u"
      }
    },
    {
      "cell_type": "code",
      "source": [],
      "metadata": {
        "id": "5-CBY5ACmhAJ"
      },
      "execution_count": null,
      "outputs": []
    }
  ]
}