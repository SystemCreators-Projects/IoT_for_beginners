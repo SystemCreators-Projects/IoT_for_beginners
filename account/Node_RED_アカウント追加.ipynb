{
  "nbformat": 4,
  "nbformat_minor": 0,
  "metadata": {
    "colab": {
      "provenance": []
    },
    "kernelspec": {
      "name": "python3",
      "display_name": "Python 3"
    },
    "language_info": {
      "name": "python"
    }
  },
  "cells": [
    {
      "cell_type": "markdown",
      "source": [
        "# サーバーへのアクセス\n",
        "\n",
        "PCを同じネットワークに接続し、コマンドラインから以下でアクセスできる。\n",
        "```\n",
        "ssh peritec@iotschool\n",
        "```\n",
        "\n",
        "リモートからもアクセスできるようにしているがここでは省略\\\n",
        "社内サーバーの以下参照\\\n",
        "(192.168.100.5\\disk1\\03_個人フォルダ\\mizunashi\\AIサーバーリモートアクセス.txt)"
      ],
      "metadata": {
        "id": "z1v_0oER-5Jw"
      }
    },
    {
      "cell_type": "markdown",
      "source": [
        "---\n",
        "# 設定ファイル更新\n",
        "\n",
        "```\n",
        "cd nginx-nr\n",
        "cp -r BaseUserFolder [新規ユーザー名]\n",
        "nano docker-compose.yml   #修正内容は下参照\n",
        "cd nginx\n",
        "nano default.conf   #修正内容は下参照\n",
        "cd ../[新規ユーザー名]\n",
        "nano settings.js    #修正内容は下参照\n",
        "```\n",
        "※ユーザー名は小文字にする\n"
      ],
      "metadata": {
        "id": "tL5aihwZ_rcH"
      }
    },
    {
      "cell_type": "markdown",
      "source": [
        "## docker-compose.yml ファイルの更新\n",
        "\n",
        "docker-compose.ymlファイルに他のユーザー設定と同じように新規ユーザー情報を追加する。\n",
        "```\n",
        "[新規ユーザー名]:\n",
        "  volumes:\n",
        "    - type: volume\n",
        "      source: data_[新規ユーザー名]\n",
        "      target: /data\n",
        "  build:\n",
        "      context : ./[新規ユーザー名]/\n",
        "      dockerfile: Dockerfile\n",
        "  container_name: [新規ユーザー名]\n",
        "  ports:\n",
        "    - [新規ポート]:[新規ポート]\n",
        "  extra_hosts:\n",
        "    - \"peritec.net:192.168.254.245\"\n",
        "```\n",
        "一番下のvolumesにも追加\n",
        "```\n",
        "data_[新規ユーザー名]\n",
        "```"
      ],
      "metadata": {
        "id": "iyNzuQanZN_V"
      }
    },
    {
      "cell_type": "markdown",
      "source": [
        "## default.conf ファイルの更新\n",
        "\n",
        "default.confファイルに他のユーザー設定と同じように新規ユーザー情報を追加する。\n",
        "```\n",
        "  location /[新規ユーザー名]/ {\n",
        "    proxy_http_version 1.1;\n",
        "    proxy_set_header Host              $host;\n",
        "    proxy_set_header Upgrade $http_upgrade;\n",
        "    proxy_set_header Connection \"upgrade\";\n",
        "\n",
        "    proxy_pass        http://[新規ユーザー名]:[新規ポート]/;\n",
        "  }\n",
        "```"
      ],
      "metadata": {
        "id": "QcHKp93EZTW0"
      }
    },
    {
      "cell_type": "markdown",
      "source": [
        "## settings.confファイルの更新\n",
        "\n",
        "settings.jsファイルを更新する\n",
        "```\n",
        "username: \"[新規ユーザー名]\"\n",
        "password: \"[パスワード文字列]\"\n",
        "```\n",
        "```\n",
        "uiPort: process.env.PORT || [新規ポート],\n",
        "```\n",
        "パスワードの生成は、以下コマンド後にパスワードを入力するとパスワード文字列を生成できる。\n",
        "```\n",
        "node-red admin hash-pw\n",
        "```\n"
      ],
      "metadata": {
        "id": "Q9XJRcjIZblU"
      }
    },
    {
      "cell_type": "markdown",
      "source": [
        "##変更反映\n",
        "\n",
        "設定更新後、nginx-nr フォルダで以下コマンドを実行して  \n",
        "Dockerを再起動する。\n",
        "```\n",
        "docker compose down --rmi all --volumes --remove-orphans\n",
        "docker compose up -d --build\n",
        "```"
      ],
      "metadata": {
        "id": "kxJDBUm7Zk1M"
      }
    }
  ]
}